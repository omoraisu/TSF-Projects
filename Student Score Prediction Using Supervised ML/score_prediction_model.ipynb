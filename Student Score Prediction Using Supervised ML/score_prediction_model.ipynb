{
 "cells": [
  {
   "cell_type": "markdown",
   "id": "14e95694-5a7c-45ad-a047-73e42ed07d78",
   "metadata": {},
   "source": [
    "# Linear Regression Modeling: Predicting Student Scores Based on Study Hours"
   ]
  },
  {
   "cell_type": "code",
   "execution_count": null,
   "id": "2f101b13-c5d5-4269-85f5-d0c704149d00",
   "metadata": {},
   "outputs": [],
   "source": [
    "# add info about you Author, Date, Notebook Version, Python Version, Jupyter Version"
   ]
  },
  {
   "cell_type": "markdown",
   "id": "94ca77fa-e1fd-4cf6-b343-18e4fdbf4816",
   "metadata": {},
   "source": [
    "--- "
   ]
  },
  {
   "cell_type": "markdown",
   "id": "97960205-f37e-47fb-9601-79152ce9942f",
   "metadata": {},
   "source": [
    "**Summary:**"
   ]
  },
  {
   "cell_type": "markdown",
   "id": "9380f162-e7ed-41cc-8e8b-70da21884c43",
   "metadata": {},
   "source": [
    "---"
   ]
  },
  {
   "cell_type": "markdown",
   "id": "85d692ba-4823-4d93-96a4-38919a3a68ff",
   "metadata": {},
   "source": [
    "## Table of Contents"
   ]
  },
  {
   "cell_type": "markdown",
   "id": "58ecd6f7-7d58-4bff-8d4c-9041db038fdf",
   "metadata": {},
   "source": [
    "## Data Preparation"
   ]
  },
  {
   "cell_type": "markdown",
   "id": "a291fabd-f971-4d4b-93ce-e09444f02fe4",
   "metadata": {},
   "source": [
    "### Import Libraries"
   ]
  },
  {
   "cell_type": "code",
   "execution_count": 98,
   "id": "79b85cab-5840-4d32-9816-4ac615d4d50c",
   "metadata": {},
   "outputs": [],
   "source": [
    "import pandas as pd\n",
    "import numpy as np"
   ]
  },
  {
   "cell_type": "markdown",
   "id": "a36370a0-68b1-4546-8ba6-c6c124e78a05",
   "metadata": {},
   "source": [
    "### Read Data"
   ]
  },
  {
   "cell_type": "code",
   "execution_count": 72,
   "id": "ad4fc08f-de5e-4650-b6b9-d1f0b15d1705",
   "metadata": {},
   "outputs": [],
   "source": [
    "path = r\"C:\\Users\\daeni\\Desktop\\LOVE\\Internships\\TSF-Projects\\Student Score Prediction Using Supervised ML\\Datasets\\Student Scores and Study Hours.csv\"\n",
    "student_data = pd.read_csv(path)"
   ]
  },
  {
   "cell_type": "markdown",
   "id": "95cbae15-dc27-4844-8e39-9bf5d20f991b",
   "metadata": {},
   "source": [
    "### Basic Insights"
   ]
  },
  {
   "cell_type": "code",
   "execution_count": 73,
   "id": "301d1a20-53f8-46ac-b4e4-1c9a363bc944",
   "metadata": {},
   "outputs": [
    {
     "data": {
      "text/html": [
       "<div>\n",
       "<style scoped>\n",
       "    .dataframe tbody tr th:only-of-type {\n",
       "        vertical-align: middle;\n",
       "    }\n",
       "\n",
       "    .dataframe tbody tr th {\n",
       "        vertical-align: top;\n",
       "    }\n",
       "\n",
       "    .dataframe thead th {\n",
       "        text-align: right;\n",
       "    }\n",
       "</style>\n",
       "<table border=\"1\" class=\"dataframe\">\n",
       "  <thead>\n",
       "    <tr style=\"text-align: right;\">\n",
       "      <th></th>\n",
       "      <th>Hours</th>\n",
       "      <th>Scores</th>\n",
       "    </tr>\n",
       "  </thead>\n",
       "  <tbody>\n",
       "    <tr>\n",
       "      <th>0</th>\n",
       "      <td>2.5</td>\n",
       "      <td>21</td>\n",
       "    </tr>\n",
       "    <tr>\n",
       "      <th>1</th>\n",
       "      <td>5.1</td>\n",
       "      <td>47</td>\n",
       "    </tr>\n",
       "    <tr>\n",
       "      <th>2</th>\n",
       "      <td>3.2</td>\n",
       "      <td>27</td>\n",
       "    </tr>\n",
       "    <tr>\n",
       "      <th>3</th>\n",
       "      <td>8.5</td>\n",
       "      <td>75</td>\n",
       "    </tr>\n",
       "    <tr>\n",
       "      <th>4</th>\n",
       "      <td>3.5</td>\n",
       "      <td>30</td>\n",
       "    </tr>\n",
       "  </tbody>\n",
       "</table>\n",
       "</div>"
      ],
      "text/plain": [
       "   Hours  Scores\n",
       "0    2.5      21\n",
       "1    5.1      47\n",
       "2    3.2      27\n",
       "3    8.5      75\n",
       "4    3.5      30"
      ]
     },
     "execution_count": 73,
     "metadata": {},
     "output_type": "execute_result"
    }
   ],
   "source": [
    "student_data.head()"
   ]
  },
  {
   "cell_type": "code",
   "execution_count": 74,
   "id": "36716975-9882-4bef-b56a-300d8bf4d8de",
   "metadata": {},
   "outputs": [
    {
     "data": {
      "text/plain": [
       "Index(['Hours', 'Scores'], dtype='object')"
      ]
     },
     "execution_count": 74,
     "metadata": {},
     "output_type": "execute_result"
    }
   ],
   "source": [
    "student_data.columns"
   ]
  },
  {
   "cell_type": "code",
   "execution_count": 75,
   "id": "f2fef8e9-c8e3-41fc-adc0-49a9d19730f3",
   "metadata": {},
   "outputs": [
    {
     "data": {
      "text/plain": [
       "Hours     float64\n",
       "Scores      int64\n",
       "dtype: object"
      ]
     },
     "execution_count": 75,
     "metadata": {},
     "output_type": "execute_result"
    }
   ],
   "source": [
    "student_data.dtypes"
   ]
  },
  {
   "cell_type": "code",
   "execution_count": 76,
   "id": "858d7869-2471-418f-bc3e-01851940f2ca",
   "metadata": {},
   "outputs": [
    {
     "data": {
      "text/plain": [
       "50"
      ]
     },
     "execution_count": 76,
     "metadata": {},
     "output_type": "execute_result"
    }
   ],
   "source": [
    "student_data.size"
   ]
  },
  {
   "cell_type": "code",
   "execution_count": 77,
   "id": "e63752d5-5239-4332-865c-5c7402d23774",
   "metadata": {},
   "outputs": [
    {
     "data": {
      "text/plain": [
       "(25, 2)"
      ]
     },
     "execution_count": 77,
     "metadata": {},
     "output_type": "execute_result"
    }
   ],
   "source": [
    "student_data.shape"
   ]
  },
  {
   "cell_type": "code",
   "execution_count": 78,
   "id": "3fde9098-5680-4944-b32a-081c132e8e21",
   "metadata": {},
   "outputs": [
    {
     "data": {
      "text/html": [
       "<div>\n",
       "<style scoped>\n",
       "    .dataframe tbody tr th:only-of-type {\n",
       "        vertical-align: middle;\n",
       "    }\n",
       "\n",
       "    .dataframe tbody tr th {\n",
       "        vertical-align: top;\n",
       "    }\n",
       "\n",
       "    .dataframe thead th {\n",
       "        text-align: right;\n",
       "    }\n",
       "</style>\n",
       "<table border=\"1\" class=\"dataframe\">\n",
       "  <thead>\n",
       "    <tr style=\"text-align: right;\">\n",
       "      <th></th>\n",
       "      <th>Hours</th>\n",
       "      <th>Scores</th>\n",
       "    </tr>\n",
       "  </thead>\n",
       "  <tbody>\n",
       "    <tr>\n",
       "      <th>count</th>\n",
       "      <td>25.000000</td>\n",
       "      <td>25.000000</td>\n",
       "    </tr>\n",
       "    <tr>\n",
       "      <th>mean</th>\n",
       "      <td>5.012000</td>\n",
       "      <td>51.480000</td>\n",
       "    </tr>\n",
       "    <tr>\n",
       "      <th>std</th>\n",
       "      <td>2.525094</td>\n",
       "      <td>25.286887</td>\n",
       "    </tr>\n",
       "    <tr>\n",
       "      <th>min</th>\n",
       "      <td>1.100000</td>\n",
       "      <td>17.000000</td>\n",
       "    </tr>\n",
       "    <tr>\n",
       "      <th>25%</th>\n",
       "      <td>2.700000</td>\n",
       "      <td>30.000000</td>\n",
       "    </tr>\n",
       "    <tr>\n",
       "      <th>50%</th>\n",
       "      <td>4.800000</td>\n",
       "      <td>47.000000</td>\n",
       "    </tr>\n",
       "    <tr>\n",
       "      <th>75%</th>\n",
       "      <td>7.400000</td>\n",
       "      <td>75.000000</td>\n",
       "    </tr>\n",
       "    <tr>\n",
       "      <th>max</th>\n",
       "      <td>9.200000</td>\n",
       "      <td>95.000000</td>\n",
       "    </tr>\n",
       "  </tbody>\n",
       "</table>\n",
       "</div>"
      ],
      "text/plain": [
       "           Hours     Scores\n",
       "count  25.000000  25.000000\n",
       "mean    5.012000  51.480000\n",
       "std     2.525094  25.286887\n",
       "min     1.100000  17.000000\n",
       "25%     2.700000  30.000000\n",
       "50%     4.800000  47.000000\n",
       "75%     7.400000  75.000000\n",
       "max     9.200000  95.000000"
      ]
     },
     "execution_count": 78,
     "metadata": {},
     "output_type": "execute_result"
    }
   ],
   "source": [
    "student_data.describe()"
   ]
  },
  {
   "cell_type": "code",
   "execution_count": 79,
   "id": "d6dec131-e915-4724-abc1-3d29c3da2c3c",
   "metadata": {},
   "outputs": [
    {
     "data": {
      "text/plain": [
       "Hours     0\n",
       "Scores    0\n",
       "dtype: int64"
      ]
     },
     "execution_count": 79,
     "metadata": {},
     "output_type": "execute_result"
    }
   ],
   "source": [
    "student_data.isnull().sum()"
   ]
  },
  {
   "cell_type": "markdown",
   "id": "c65bf8f3-8116-4220-ad7b-7b878c9c3405",
   "metadata": {},
   "source": [
    "## Data Analysis"
   ]
  },
  {
   "cell_type": "markdown",
   "id": "6c5b5b9f-26c2-4d39-8846-6be24f87a29b",
   "metadata": {},
   "source": [
    "### Import Libraries"
   ]
  },
  {
   "cell_type": "code",
   "execution_count": 80,
   "id": "f6b5c114-710d-4715-afd7-158f4c6f9399",
   "metadata": {},
   "outputs": [],
   "source": [
    "import matplotlib.pyplot as plt\n",
    "import seaborn as sns\n",
    "%matplotlib inline"
   ]
  },
  {
   "cell_type": "markdown",
   "id": "331986a4-364c-4706-8fc8-a0da2be7c9bb",
   "metadata": {},
   "source": [
    "### Visualizing the Relationship between Hours and Scores of the Students"
   ]
  },
  {
   "cell_type": "markdown",
   "id": "0394104c-cf0b-44a6-804f-ed8a2e40a3cd",
   "metadata": {},
   "source": [
    "#### Regression Plot"
   ]
  },
  {
   "cell_type": "code",
   "execution_count": 81,
   "id": "6f2cd8bf-2a27-4924-90e3-bd5060d0832b",
   "metadata": {},
   "outputs": [
    {
     "data": {
      "text/html": [
       "<div>\n",
       "<style scoped>\n",
       "    .dataframe tbody tr th:only-of-type {\n",
       "        vertical-align: middle;\n",
       "    }\n",
       "\n",
       "    .dataframe tbody tr th {\n",
       "        vertical-align: top;\n",
       "    }\n",
       "\n",
       "    .dataframe thead th {\n",
       "        text-align: right;\n",
       "    }\n",
       "</style>\n",
       "<table border=\"1\" class=\"dataframe\">\n",
       "  <thead>\n",
       "    <tr style=\"text-align: right;\">\n",
       "      <th></th>\n",
       "      <th>Hours</th>\n",
       "      <th>Scores</th>\n",
       "    </tr>\n",
       "  </thead>\n",
       "  <tbody>\n",
       "    <tr>\n",
       "      <th>Hours</th>\n",
       "      <td>1.000000</td>\n",
       "      <td>0.976191</td>\n",
       "    </tr>\n",
       "    <tr>\n",
       "      <th>Scores</th>\n",
       "      <td>0.976191</td>\n",
       "      <td>1.000000</td>\n",
       "    </tr>\n",
       "  </tbody>\n",
       "</table>\n",
       "</div>"
      ],
      "text/plain": [
       "           Hours    Scores\n",
       "Hours   1.000000  0.976191\n",
       "Scores  0.976191  1.000000"
      ]
     },
     "execution_count": 81,
     "metadata": {},
     "output_type": "execute_result"
    }
   ],
   "source": [
    "student_data[['Hours', 'Scores']].corr()"
   ]
  },
  {
   "cell_type": "code",
   "execution_count": 82,
   "id": "a855ac91-fe5c-468b-9cc8-d3551b9f63d5",
   "metadata": {},
   "outputs": [
    {
     "data": {
      "text/plain": [
       "(0.0, 102.17484557287759)"
      ]
     },
     "execution_count": 82,
     "metadata": {},
     "output_type": "execute_result"
    },
    {
     "data": {
      "image/png": "[encoded data removed]",
      "text/plain": [
       "<Figure size 640x480 with 1 Axes>"
      ]
     },
     "metadata": {},
     "output_type": "display_data"
    }
   ],
   "source": [
    "sns.regplot(x=\"Hours\", y=\"Scores\", data=student_data)\n",
    "plt.ylim(0,)"
   ]
  },
  {
   "cell_type": "markdown",
   "id": "3654161f-73fc-4ed5-9266-374b02ef4472",
   "metadata": {},
   "source": [
    "The more students study, the higher their reflective scores, indicating a positive linear relationship between the two features."
   ]
  },
  {
   "cell_type": "markdown",
   "id": "55ac4563-de1b-4ae7-807e-55961464b49c",
   "metadata": {},
   "source": [
    "#### Residual Plot"
   ]
  },
  {
   "cell_type": "code",
   "execution_count": 83,
   "id": "45dd9451-a78b-4c06-8aac-557634752fb6",
   "metadata": {},
   "outputs": [
    {
     "data": {
      "text/plain": [
       "<Axes: xlabel='Hours', ylabel='Scores'>"
      ]
     },
     "execution_count": 83,
     "metadata": {},
     "output_type": "execute_result"
    },
    {
     "data": {
      "image/png": "[encoded data removed]",
      "text/plain": [
       "<Figure size 640x480 with 1 Axes>"
      ]
     },
     "metadata": {},
     "output_type": "display_data"
    }
   ],
   "source": [
    "sns.residplot(x=student_data['Hours'], y=student_data['Scores'])"
   ]
  },
  {
   "cell_type": "markdown",
   "id": "b8f8767d-bde2-4b12-8bcb-7863c6910ba2",
   "metadata": {},
   "source": [
    "The spread of the residuals is random at the x-axis. A linear regression model is appropriate for this dataset. "
   ]
  },
  {
   "cell_type": "markdown",
   "id": "6758d501-6375-4c44-96f0-b1d94744db92",
   "metadata": {},
   "source": [
    "## Model Development"
   ]
  },
  {
   "cell_type": "markdown",
   "id": "2576bbc3-6535-4417-83dd-fe54429714fa",
   "metadata": {},
   "source": [
    "### Import Libraries"
   ]
  },
  {
   "cell_type": "code",
   "execution_count": 84,
   "id": "cbcfe56c-bf1f-4ef6-8645-30fe13726f43",
   "metadata": {},
   "outputs": [],
   "source": [
    "from sklearn.linear_model import LinearRegression"
   ]
  },
  {
   "cell_type": "markdown",
   "id": "c72dfc65-b1dd-496a-b545-e9306515caba",
   "metadata": {},
   "source": [
    "### SLR to Predict Scores based on Hours Studied"
   ]
  },
  {
   "cell_type": "code",
   "execution_count": 85,
   "id": "4658c337-64f2-4e8a-bafe-31a6d324c337",
   "metadata": {},
   "outputs": [],
   "source": [
    "# Create the linear regression object\n",
    "lm = LinearRegression()"
   ]
  },
  {
   "cell_type": "code",
   "execution_count": 86,
   "id": "a6306a76-b2fb-4ac6-85b5-8a7571648935",
   "metadata": {},
   "outputs": [],
   "source": [
    "# Setting predictor (x) and target (y) variables\n",
    "x = student_data[[\"Hours\"]]\n",
    "y = student_data[[\"Scores\"]]"
   ]
  },
  {
   "cell_type": "code",
   "execution_count": 87,
   "id": "72abbd44-6557-4412-bad7-24f9f8e3e667",
   "metadata": {},
   "outputs": [
    {
     "data": {
      "text/html": [
       "<style>#sk-container-id-2 {color: black;}#sk-container-id-2 pre{padding: 0;}#sk-container-id-2 div.sk-toggleable {background-color: white;}#sk-container-id-2 label.sk-toggleable__label {cursor: pointer;display: block;width: 100%;margin-bottom: 0;padding: 0.3em;box-sizing: border-box;text-align: center;}#sk-container-id-2 label.sk-toggleable__label-arrow:before {content: \"▸\";float: left;margin-right: 0.25em;color: #696969;}#sk-container-id-2 label.sk-toggleable__label-arrow:hover:before {color: black;}#sk-container-id-2 div.sk-estimator:hover label.sk-toggleable__label-arrow:before {color: black;}#sk-container-id-2 div.sk-toggleable__content {max-height: 0;max-width: 0;overflow: hidden;text-align: left;background-color: #f0f8ff;}#sk-container-id-2 div.sk-toggleable__content pre {margin: 0.2em;color: black;border-radius: 0.25em;background-color: #f0f8ff;}#sk-container-id-2 input.sk-toggleable__control:checked~div.sk-toggleable__content {max-height: 200px;max-width: 100%;overflow: auto;}#sk-container-id-2 input.sk-toggleable__control:checked~label.sk-toggleable__label-arrow:before {content: \"▾\";}#sk-container-id-2 div.sk-estimator input.sk-toggleable__control:checked~label.sk-toggleable__label {background-color: #d4ebff;}#sk-container-id-2 div.sk-label input.sk-toggleable__control:checked~label.sk-toggleable__label {background-color: #d4ebff;}#sk-container-id-2 input.sk-hidden--visually {border: 0;clip: rect(1px 1px 1px 1px);clip: rect(1px, 1px, 1px, 1px);height: 1px;margin: -1px;overflow: hidden;padding: 0;position: absolute;width: 1px;}#sk-container-id-2 div.sk-estimator {font-family: monospace;background-color: #f0f8ff;border: 1px dotted black;border-radius: 0.25em;box-sizing: border-box;margin-bottom: 0.5em;}#sk-container-id-2 div.sk-estimator:hover {background-color: #d4ebff;}#sk-container-id-2 div.sk-parallel-item::after {content: \"\";width: 100%;border-bottom: 1px solid gray;flex-grow: 1;}#sk-container-id-2 div.sk-label:hover label.sk-toggleable__label {background-color: #d4ebff;}#sk-container-id-2 div.sk-serial::before {content: \"\";position: absolute;border-left: 1px solid gray;box-sizing: border-box;top: 0;bottom: 0;left: 50%;z-index: 0;}#sk-container-id-2 div.sk-serial {display: flex;flex-direction: column;align-items: center;background-color: white;padding-right: 0.2em;padding-left: 0.2em;position: relative;}#sk-container-id-2 div.sk-item {position: relative;z-index: 1;}#sk-container-id-2 div.sk-parallel {display: flex;align-items: stretch;justify-content: center;background-color: white;position: relative;}#sk-container-id-2 div.sk-item::before, #sk-container-id-2 div.sk-parallel-item::before {content: \"\";position: absolute;border-left: 1px solid gray;box-sizing: border-box;top: 0;bottom: 0;left: 50%;z-index: -1;}#sk-container-id-2 div.sk-parallel-item {display: flex;flex-direction: column;z-index: 1;position: relative;background-color: white;}#sk-container-id-2 div.sk-parallel-item:first-child::after {align-self: flex-end;width: 50%;}#sk-container-id-2 div.sk-parallel-item:last-child::after {align-self: flex-start;width: 50%;}#sk-container-id-2 div.sk-parallel-item:only-child::after {width: 0;}#sk-container-id-2 div.sk-dashed-wrapped {border: 1px dashed gray;margin: 0 0.4em 0.5em 0.4em;box-sizing: border-box;padding-bottom: 0.4em;background-color: white;}#sk-container-id-2 div.sk-label label {font-family: monospace;font-weight: bold;display: inline-block;line-height: 1.2em;}#sk-container-id-2 div.sk-label-container {text-align: center;}#sk-container-id-2 div.sk-container {/* jupyter's `normalize.less` sets `[hidden] { display: none; }` but bootstrap.min.css set `[hidden] { display: none !important; }` so we also need the `!important` here to be able to override the default hidden behavior on the sphinx rendered scikit-learn.org. See: https://github.com/scikit-learn/scikit-learn/issues/21755 */display: inline-block !important;position: relative;}#sk-container-id-2 div.sk-text-repr-fallback {display: none;}</style><div id=\"sk-container-id-2\" class=\"sk-top-container\"><div class=\"sk-text-repr-fallback\"><pre>LinearRegression()</pre><b>In a Jupyter environment, please rerun this cell to show the HTML representation or trust the notebook. <br />On GitHub, the HTML representation is unable to render, please try loading this page with nbviewer.org.</b></div><div class=\"sk-container\" hidden><div class=\"sk-item\"><div class=\"sk-estimator sk-toggleable\"><input class=\"sk-toggleable__control sk-hidden--visually\" id=\"sk-estimator-id-2\" type=\"checkbox\" checked><label for=\"sk-estimator-id-2\" class=\"sk-toggleable__label sk-toggleable__label-arrow\">LinearRegression</label><div class=\"sk-toggleable__content\"><pre>LinearRegression()</pre></div></div></div></div></div>"
      ],
      "text/plain": [
       "LinearRegression()"
      ]
     },
     "execution_count": 87,
     "metadata": {},
     "output_type": "execute_result"
    }
   ],
   "source": [
    "# Fitting the linear model\n",
    "lm.fit(x, y)"
   ]
  },
  {
   "cell_type": "code",
   "execution_count": 88,
   "id": "29f20560-fe00-4e52-b4f3-2435177c9ab8",
   "metadata": {},
   "outputs": [
    {
     "data": {
      "text/plain": [
       "array([[26.92318188],\n",
       "       [52.3402707 ],\n",
       "       [33.76624426],\n",
       "       [85.57800223],\n",
       "       [36.69898527],\n",
       "       [17.14737849],\n",
       "       [92.4210646 ],\n",
       "       [56.25059205],\n",
       "       [83.62284155],\n",
       "       [28.87834256],\n",
       "       [77.75735951],\n",
       "       [60.16091341],\n",
       "       [46.47478866],\n",
       "       [34.74382459],\n",
       "       [13.23705714],\n",
       "       [89.48832358],\n",
       "       [26.92318188],\n",
       "       [21.05769985],\n",
       "       [62.11607409],\n",
       "       [74.8246185 ],\n",
       "       [28.87834256],\n",
       "       [49.40752968],\n",
       "       [39.63172629],\n",
       "       [69.9367168 ],\n",
       "       [78.73493985]])"
      ]
     },
     "execution_count": 88,
     "metadata": {},
     "output_type": "execute_result"
    }
   ],
   "source": [
    "# Obtain a prediction\n",
    "y_hat = lm.predict(x)\n",
    "y_hat"
   ]
  },
  {
   "cell_type": "code",
   "execution_count": 93,
   "id": "c992b661-9abc-403b-ba3e-d7ae9cc8bbc3",
   "metadata": {},
   "outputs": [
    {
     "data": {
      "text/plain": [
       "array([2.48367341])"
      ]
     },
     "execution_count": 93,
     "metadata": {},
     "output_type": "execute_result"
    }
   ],
   "source": [
    "# Intercept (a) value\n",
    "lm.intercept_"
   ]
  },
  {
   "cell_type": "code",
   "execution_count": 94,
   "id": "2e103008-db8d-48ac-99d9-e8fb2e25b18a",
   "metadata": {},
   "outputs": [
    {
     "data": {
      "text/plain": [
       "array([[9.77580339]])"
      ]
     },
     "execution_count": 94,
     "metadata": {},
     "output_type": "execute_result"
    }
   ],
   "source": [
    "# Slope (b) value\n",
    "lm.coef_"
   ]
  },
  {
   "cell_type": "markdown",
   "id": "011c5cbd-2f36-49b0-bc45-02ded622e4ee",
   "metadata": {},
   "source": [
    "### Getting estimated values"
   ]
  },
  {
   "cell_type": "markdown",
   "id": "51a7ccf2-5329-40e5-bf6a-0d6687965c75",
   "metadata": {},
   "source": [
    "The final linear model structure is as follows: "
   ]
  },
  {
   "cell_type": "markdown",
   "id": "6dfb0b29-c7e9-4f18-a647-e63546476e24",
   "metadata": {},
   "source": [
    "$$ \\hat{y} = a + bx $$"
   ]
  },
  {
   "cell_type": "markdown",
   "id": "e013d3a2-bd73-4c80-8650-642186a978b8",
   "metadata": {},
   "source": [
    "**Score Received** = 2.48367341 + 9.77580339 x *Hours Studied*"
   ]
  },
  {
   "cell_type": "markdown",
   "id": "63ac6390-2da6-41d3-b6b1-43f6a6e83de1",
   "metadata": {},
   "source": [
    "### Visualizing Predicted Values and Actual Values"
   ]
  },
  {
   "cell_type": "markdown",
   "id": "ea4e5cf5-7f75-41a2-b083-5cc59b5d7468",
   "metadata": {},
   "source": [
    "#### Distribution Plot"
   ]
  },
  {
   "cell_type": "code",
   "execution_count": 91,
   "id": "a6d57154-272c-4c62-9f98-94eb1733296e",
   "metadata": {},
   "outputs": [
    {
     "data": {
      "image/png": "[encoded data removed]",
      "text/plain": [
       "<Figure size 640x480 with 1 Axes>"
      ]
     },
     "metadata": {},
     "output_type": "display_data"
    }
   ],
   "source": [
    "# Create a kernel density estimate plot for actual values\n",
    "sns.kdeplot(student_data['Scores'], color='r', label='Actual Value')\n",
    "\n",
    "# Create a kernel density estimate plot for fitted values (y_hat)\n",
    "sns.kdeplot(y_hat, color='b', label='Fitted Value')\n",
    "\n",
    "# Add labels and a legend\n",
    "plt.xlabel('Scores')\n",
    "plt.ylabel('Probability Density')\n",
    "plt.legend()\n",
    "\n",
    "# Show the plot\n",
    "plt.show()"
   ]
  },
  {
   "cell_type": "markdown",
   "id": "ff1b856d-93a9-4ec6-ac72-0b86ef3b01f7",
   "metadata": {},
   "source": [
    "The KDE plot for actual scores (in red) and predicted scores (in blue) demonstrated a remarkable degree of similarity. The proximity of these two curves indicates that our predictive model has successfully captured the underlying distribution of scores based on the hours studied. This alignment suggests a close correspondence between the model's predictions and the actual scores achieved by the students.\n",
    "\n",
    "The close match between the two KDE curves not only signifies the accuracy of our model but also its ability to generalize well to new data. This is a positive sign, indicating that the model is effective in making predictions that closely resemble the real-world outcomes."
   ]
  },
  {
   "cell_type": "markdown",
   "id": "c2ad47dd-a99d-4f53-bbe6-95a184c79ca3",
   "metadata": {},
   "source": [
    "## Model Evaluation"
   ]
  },
  {
   "cell_type": "markdown",
   "id": "bac8b05d-5457-4ad8-a32d-a2f9c5ef6e89",
   "metadata": {},
   "source": [
    "### Import Libraries"
   ]
  },
  {
   "cell_type": "code",
   "execution_count": 100,
   "id": "fe6fa549-a881-4338-abd2-ae7b5c23d57a",
   "metadata": {},
   "outputs": [],
   "source": [
    "from sklearn.metrics import mean_squared_error"
   ]
  },
  {
   "cell_type": "markdown",
   "id": "8e2e6f8e-e1ce-4764-9ee2-aa82a583369c",
   "metadata": {},
   "source": [
    "### Mean Squared Error"
   ]
  },
  {
   "cell_type": "code",
   "execution_count": 119,
   "id": "b7a3e968-1502-4b69-bc44-6bda2ad947f3",
   "metadata": {},
   "outputs": [
    {
     "data": {
      "text/plain": [
       "28.882730509245466"
      ]
     },
     "execution_count": 119,
     "metadata": {},
     "output_type": "execute_result"
    }
   ],
   "source": [
    "mse = mean_squared_error(y, y_hat)\n",
    "mse"
   ]
  },
  {
   "cell_type": "markdown",
   "id": "effb398c-5a70-4911-8bd3-02244da41551",
   "metadata": {},
   "source": [
    "An MSE of 28.8827 indicates that, on average, the model's predictions deviate from the actual student scores by approximately 28.88 points squared."
   ]
  },
  {
   "cell_type": "code",
   "execution_count": 118,
   "id": "52e1ef37-ef0e-4a22-a6bc-adc8fbdd410b",
   "metadata": {},
   "outputs": [
    {
     "data": {
      "image/png": "[encoded data removed]",
      "text/plain": [
       "<Figure size 640x480 with 1 Axes>"
      ]
     },
     "metadata": {},
     "output_type": "display_data"
    }
   ],
   "source": [
    "# Calculate RMSE\n",
    "rmse = np.sqrt(mse)\n",
    "\n",
    "# Create a scatter plot\n",
    "plt.scatter(y, y_hat, color='b', label='Actual vs. Predicted Scores')\n",
    "plt.plot(y, y, linestyle='--', color='r', label='Perfect Prediction (y=x)')\n",
    "plt.xlabel('Actual Scores')\n",
    "plt.ylabel('Predicted Scores')\n",
    "plt.legend()\n",
    "plt.show()"
   ]
  },
  {
   "cell_type": "markdown",
   "id": "357f2450-f066-4a36-8df7-dd8e1edc3640",
   "metadata": {},
   "source": [
    "The close proximity of the data points to the perfect prediction line is a positive sign that our linear regression model performed well in predicting the scores of the students based on the number of hours they studied, which validates the usage of our model."
   ]
  },
  {
   "cell_type": "markdown",
   "id": "d39d75f0-b30e-4b07-9c22-9c717df47b46",
   "metadata": {},
   "source": [
    "### R-squared"
   ]
  },
  {
   "cell_type": "code",
   "execution_count": 97,
   "id": "c6f8ec89-2215-43f1-8e83-dc08e8814738",
   "metadata": {},
   "outputs": [
    {
     "data": {
      "text/plain": [
       "0.9529481969048356"
      ]
     },
     "execution_count": 97,
     "metadata": {},
     "output_type": "execute_result"
    }
   ],
   "source": [
    "lm.score(x,y)"
   ]
  },
  {
   "cell_type": "markdown",
   "id": "1856df93-d8d3-4c8f-abbc-47d301196752",
   "metadata": {},
   "source": [
    "The R-squared value of approximately 0.953 (or 95.3%) indicates that the linear regression model can explain about 95.3% of the variance in student scores, which is a strong indicator of model quality and the suitability of the linear relationship for the data."
   ]
  },
  {
   "cell_type": "markdown",
   "id": "f8372f13-bde1-4cad-9c23-5ad74eb20220",
   "metadata": {},
   "source": [
    "## Conclusion"
   ]
  },
  {
   "cell_type": "code",
   "execution_count": null,
   "id": "f788a04f-4b6d-4bad-a586-c3cf2ad29a4c",
   "metadata": {},
   "outputs": [],
   "source": []
  }
 ],
 "metadata": {
  "kernelspec": {
   "display_name": "Python 3 (ipykernel)",
   "language": "python",
   "name": "python3"
  },
  "language_info": {
   "codemirror_mode": {
    "name": "ipython",
    "version": 3
   },
   "file_extension": ".py",
   "mimetype": "text/x-python",
   "name": "python",
   "nbconvert_exporter": "python",
   "pygments_lexer": "ipython3",
   "version": "3.10.0"
  }
 },
 "nbformat": 4,
 "nbformat_minor": 5
}
